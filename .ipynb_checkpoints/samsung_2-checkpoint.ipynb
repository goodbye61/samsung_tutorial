{
 "cells": [
  {
   "cell_type": "code",
   "execution_count": 1,
   "metadata": {
    "colab": {
     "base_uri": "https://localhost:8080/",
     "height": 411
    },
    "colab_type": "code",
    "executionInfo": {
     "elapsed": 4384,
     "status": "ok",
     "timestamp": 1554885619973,
     "user": {
      "displayName": "김서현",
      "photoUrl": "",
      "userId": "15191576367097349422"
     },
     "user_tz": -540
    },
    "id": "vcRKqsUb0l8O",
    "outputId": "ba5a8528-6a6a-4e6e-8329-3249987dbb9a"
   },
   "outputs": [
    {
     "name": "stdout",
     "output_type": "stream",
     "text": [
      "WARNING:tensorflow:From <ipython-input-1-caf6ad61026f>:4: read_data_sets (from tensorflow.contrib.learn.python.learn.datasets.mnist) is deprecated and will be removed in a future version.\n",
      "Instructions for updating:\n",
      "Please use alternatives such as official/mnist/dataset.py from tensorflow/models.\n",
      "WARNING:tensorflow:From /usr/local/lib/python3.6/dist-packages/tensorflow/contrib/learn/python/learn/datasets/mnist.py:260: maybe_download (from tensorflow.contrib.learn.python.learn.datasets.base) is deprecated and will be removed in a future version.\n",
      "Instructions for updating:\n",
      "Please write your own downloading logic.\n",
      "WARNING:tensorflow:From /usr/local/lib/python3.6/dist-packages/tensorflow/contrib/learn/python/learn/datasets/mnist.py:262: extract_images (from tensorflow.contrib.learn.python.learn.datasets.mnist) is deprecated and will be removed in a future version.\n",
      "Instructions for updating:\n",
      "Please use tf.data to implement this functionality.\n",
      "Extracting ./mnist/data/train-images-idx3-ubyte.gz\n",
      "WARNING:tensorflow:From /usr/local/lib/python3.6/dist-packages/tensorflow/contrib/learn/python/learn/datasets/mnist.py:267: extract_labels (from tensorflow.contrib.learn.python.learn.datasets.mnist) is deprecated and will be removed in a future version.\n",
      "Instructions for updating:\n",
      "Please use tf.data to implement this functionality.\n",
      "Extracting ./mnist/data/train-labels-idx1-ubyte.gz\n",
      "WARNING:tensorflow:From /usr/local/lib/python3.6/dist-packages/tensorflow/contrib/learn/python/learn/datasets/mnist.py:110: dense_to_one_hot (from tensorflow.contrib.learn.python.learn.datasets.mnist) is deprecated and will be removed in a future version.\n",
      "Instructions for updating:\n",
      "Please use tf.one_hot on tensors.\n",
      "Extracting ./mnist/data/t10k-images-idx3-ubyte.gz\n",
      "Extracting ./mnist/data/t10k-labels-idx1-ubyte.gz\n",
      "WARNING:tensorflow:From /usr/local/lib/python3.6/dist-packages/tensorflow/contrib/learn/python/learn/datasets/mnist.py:290: DataSet.__init__ (from tensorflow.contrib.learn.python.learn.datasets.mnist) is deprecated and will be removed in a future version.\n",
      "Instructions for updating:\n",
      "Please use alternatives such as official/mnist/dataset.py from tensorflow/models.\n"
     ]
    }
   ],
   "source": [
    "import tensorflow as tf\n",
    "import numpy as np\n",
    "from tensorflow.examples.tutorials.mnist import input_data\n",
    "mnist = input_data.read_data_sets(\"./mnist/data/\", one_hot=True)\n",
    "X = tf.placeholder(tf.float32, [None, 28, 28, 1])\n",
    "Y = tf.placeholder(tf.float32, [None, 10])\n",
    "keep_prob = tf.placeholder(tf.float32)"
   ]
  },
  {
   "cell_type": "code",
   "execution_count": 0,
   "metadata": {
    "colab": {
     "base_uri": "https://localhost:8080/",
     "height": 144
    },
    "colab_type": "code",
    "executionInfo": {
     "elapsed": 672,
     "status": "ok",
     "timestamp": 1550736627414,
     "user": {
      "displayName": "김서현",
      "photoUrl": "",
      "userId": "15191576367097349422"
     },
     "user_tz": -540
    },
    "id": "a2xbxbPT0l8S",
    "outputId": "fd6cd2fd-93c1-4331-ada9-e527b2c8b1a0"
   },
   "outputs": [
    {
     "name": "stdout",
     "output_type": "stream",
     "text": [
      "WARNING:tensorflow:From /usr/local/lib/python3.6/dist-packages/tensorflow/python/framework/op_def_library.py:263: colocate_with (from tensorflow.python.framework.ops) is deprecated and will be removed in a future version.\n",
      "Instructions for updating:\n",
      "Colocations handled automatically by placer.\n",
      "WARNING:tensorflow:From <ipython-input-2-ea62239f51ea>:15: calling dropout (from tensorflow.python.ops.nn_ops) with keep_prob is deprecated and will be removed in a future version.\n",
      "Instructions for updating:\n",
      "Please use `rate` instead of `keep_prob`. Rate should be set to `rate = 1 - keep_prob`.\n"
     ]
    }
   ],
   "source": [
    "W1 = tf.Variable(tf.random_normal([3, 3, 1, 64], stddev=0.01))\n",
    "L1 = tf.nn.conv2d(X, W1, strides=[1, 2, 2, 1], padding='SAME')\n",
    "L1 = tf.nn.relu(L1)\n",
    "L1 = tf.nn.max_pool(L1, ksize=[1, 2, 2, 1], strides=[1, 2, 2, 1], padding='SAME')\n",
    "\n",
    "W2 = tf.Variable(tf.random_normal([3, 3, 64, 128], stddev=0.01))\n",
    "L2 = tf.nn.conv2d(L1, W2, strides=[1, 1, 1, 1], padding='SAME')\n",
    "L2 = tf.nn.relu(L2)\n",
    "L2 = tf.nn.max_pool(L2, ksize=[1, 2, 2, 1], strides=[1, 2, 2, 1], padding='SAME')\n",
    "\n",
    "###################### Mission 2 ############################\n",
    "# TODO:                                                     #\n",
    "# Additional 1-Convolutional Neural Network                 #                                                           \n",
    "# You could customize whole netowrk.                        #\n",
    "#############################################################\n",
    "\n",
    "\n",
    "W3 = tf.Variable(tf.random_normal([7 * 7 * 128, 256], stddev=0.01))\n",
    "L3 = tf.reshape(L2, [-1, 7 * 7 * 128])\n",
    "L3 = tf.matmul(L3, W3)\n",
    "L3 = tf.nn.relu(L3)\n",
    "L3 = tf.nn.dropout(L3, keep_prob)\n",
    "\n",
    "\n",
    "W4 = tf.Variable(tf.random_normal([256, 10], stddev=0.01))\n",
    "model = tf.matmul(L3, W4)"
   ]
  },
  {
   "cell_type": "code",
   "execution_count": 0,
   "metadata": {
    "colab": {},
    "colab_type": "code",
    "id": "QL2aU7n40l8V"
   },
   "outputs": [],
   "source": [
    "cost = tf.reduce_mean(tf.nn.softmax_cross_entropy_with_logits_v2(logits=model, labels=Y))\n",
    "optimizer = tf.train.AdamOptimizer(0.001).minimize(cost)\n",
    "\n",
    "correct_prediction = tf.equal(tf.argmax(model, 1), tf.argmax(Y, 1))\n",
    "accuracy = tf.reduce_mean(tf.cast(correct_prediction, tf.float32))"
   ]
  },
  {
   "cell_type": "code",
   "execution_count": 0,
   "metadata": {
    "colab": {
     "base_uri": "https://localhost:8080/",
     "height": 605
    },
    "colab_type": "code",
    "executionInfo": {
     "elapsed": 2520868,
     "status": "ok",
     "timestamp": 1550739171697,
     "user": {
      "displayName": "김서현",
      "photoUrl": "",
      "userId": "15191576367097349422"
     },
     "user_tz": -540
    },
    "id": "ieAQ6EbU0l8Y",
    "outputId": "8d8aeb68-6efe-4129-bec5-3348a2fc137b"
   },
   "outputs": [
    {
     "name": "stdout",
     "output_type": "stream",
     "text": [
      "550\n",
      "Epoch: 0001 Avg. cost = 0.287\n",
      "validation accuracy: 0.975\n",
      "Epoch: 0002 Avg. cost = 0.086\n",
      "validation accuracy: 0.982\n",
      "Epoch: 0003 Avg. cost = 0.060\n",
      "validation accuracy: 0.982\n",
      "Epoch: 0004 Avg. cost = 0.044\n",
      "validation accuracy: 0.985\n",
      "Epoch: 0005 Avg. cost = 0.038\n",
      "validation accuracy: 0.987\n",
      "Epoch: 0006 Avg. cost = 0.031\n",
      "validation accuracy: 0.986\n",
      "Epoch: 0007 Avg. cost = 0.025\n",
      "validation accuracy: 0.989\n",
      "Epoch: 0008 Avg. cost = 0.025\n",
      "validation accuracy: 0.988\n",
      "Epoch: 0009 Avg. cost = 0.020\n",
      "validation accuracy: 0.985\n",
      "Epoch: 0010 Avg. cost = 0.017\n",
      "validation accuracy: 0.987\n",
      "Epoch: 0011 Avg. cost = 0.017\n",
      "validation accuracy: 0.989\n",
      "Epoch: 0012 Avg. cost = 0.013\n",
      "validation accuracy: 0.987\n",
      "Epoch: 0013 Avg. cost = 0.014\n",
      "validation accuracy: 0.989\n",
      "Epoch: 0014 Avg. cost = 0.012\n",
      "validation accuracy: 0.987\n",
      "Epoch: 0015 Avg. cost = 0.011\n",
      "validation accuracy: 0.989\n",
      "최적화 완료!\n",
      "정확도: 0.9923\n"
     ]
    }
   ],
   "source": [
    "init = tf.global_variables_initializer()\n",
    "sess = tf.Session()\n",
    "sess.run(init)\n",
    "\n",
    "batch_size = 100\n",
    "total_batch = int(mnist.train.num_examples / batch_size)\n",
    "print(total_batch) # 550 \n",
    "\n",
    "for epoch in range(5):\n",
    "    total_cost = 0\n",
    "\n",
    "    for i in range(total_batch):\n",
    "        batch_xs, batch_ys = mnist.train.next_batch(batch_size)\n",
    "        batch_xs = batch_xs.reshape(-1, 28, 28, 1)\n",
    "\n",
    "        _, cost_val = sess.run([optimizer, cost],\n",
    "                               feed_dict={X: batch_xs,\n",
    "                                          Y: batch_ys,\n",
    "                                          keep_prob: 0.7})\n",
    "        total_cost += cost_val\n",
    "        \n",
    "        #val_x = np.reshape(mnist.validation.images, [5000, 28,28,1])    \n",
    "        #val_y = mnist.validation.labels\n",
    "        #val_acc = sess.run(accuracy, feed_dict={X:val_x, Y:val_y, keep_prob:0.7})\n",
    "        #print(val_acc)\n",
    "        #print('val acc :','%.3f'%(val_acc))\n",
    "        \n",
    "    val_x = np.reshape(mnist.validation.images, [5000, 28,28,1])    \n",
    "    val_y = mnist.validation.labels\n",
    "    val_acc = sess.run(accuracy, feed_dict={X:val_x, Y:val_y, keep_prob:0.7})\n",
    "    \n",
    "    print('Epoch:', '%04d' % (epoch + 1),\n",
    "          'Avg. cost =', '{:.3f}'.format(total_cost / total_batch))\n",
    "    print('validation accuracy:', '%.3f' % (val_acc))\n",
    "    \n",
    "\n",
    "print('Optimization Complete!')\n",
    "\n",
    "\n",
    "is_correct = tf.equal(tf.argmax(model, 1), tf.argmax(Y, 1))\n",
    "accuracy = tf.reduce_mean(tf.cast(is_correct, tf.float32))\n",
    "print('Accuracy:', sess.run(accuracy,\n",
    "                        feed_dict={X: mnist.test.images.reshape(-1, 28, 28, 1),\n",
    "                                   Y: mnist.test.labels,\n",
    "                                   keep_prob: 1}))"
   ]
  }
 ],
 "metadata": {
  "colab": {
   "name": "Lotte_2.ipynb",
   "provenance": [],
   "version": "0.3.2"
  },
  "kernelspec": {
   "display_name": "Python 3",
   "language": "python",
   "name": "python3"
  },
  "language_info": {
   "codemirror_mode": {
    "name": "ipython",
    "version": 3
   },
   "file_extension": ".py",
   "mimetype": "text/x-python",
   "name": "python",
   "nbconvert_exporter": "python",
   "pygments_lexer": "ipython3",
   "version": "3.6.4"
  }
 },
 "nbformat": 4,
 "nbformat_minor": 1
}
