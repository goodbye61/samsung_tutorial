{
 "cells": [
  {
   "cell_type": "code",
   "execution_count": 10,
   "metadata": {
    "colab": {
     "base_uri": "https://localhost:8080/",
     "height": 411
    },
    "colab_type": "code",
    "executionInfo": {
     "elapsed": 4384,
     "status": "ok",
     "timestamp": 1554885619973,
     "user": {
      "displayName": "김서현",
      "photoUrl": "",
      "userId": "15191576367097349422"
     },
     "user_tz": -540
    },
    "id": "vcRKqsUb0l8O",
    "outputId": "ba5a8528-6a6a-4e6e-8329-3249987dbb9a"
   },
   "outputs": [
    {
     "name": "stdout",
     "output_type": "stream",
     "text": [
      "Extracting ./mnist/data/train-images-idx3-ubyte.gz\n",
      "Extracting ./mnist/data/train-labels-idx1-ubyte.gz\n",
      "Extracting ./mnist/data/t10k-images-idx3-ubyte.gz\n",
      "Extracting ./mnist/data/t10k-labels-idx1-ubyte.gz\n"
     ]
    }
   ],
   "source": [
    "import tensorflow as tf\n",
    "import numpy as np\n",
    "from tensorflow.examples.tutorials.mnist import input_data\n",
    "mnist = input_data.read_data_sets(\"./mnist/data/\", one_hot=True)\n",
    "X = tf.placeholder(tf.float32, [None, 28, 28, 1])\n",
    "Y = tf.placeholder(tf.float32, [None, 10])\n",
    "keep_prob = tf.placeholder(tf.float32)"
   ]
  },
  {
   "cell_type": "code",
   "execution_count": 13,
   "metadata": {
    "colab": {
     "base_uri": "https://localhost:8080/",
     "height": 144
    },
    "colab_type": "code",
    "executionInfo": {
     "elapsed": 672,
     "status": "ok",
     "timestamp": 1550736627414,
     "user": {
      "displayName": "김서현",
      "photoUrl": "",
      "userId": "15191576367097349422"
     },
     "user_tz": -540
    },
    "id": "a2xbxbPT0l8S",
    "outputId": "fd6cd2fd-93c1-4331-ada9-e527b2c8b1a0"
   },
   "outputs": [],
   "source": [
    "W1 = tf.Variable(tf.random_normal([3, 3, 1, 32], stddev=0.01))\n",
    "L1 = tf.nn.conv2d(X, W1, strides=[1, 1, 1, 1], padding='SAME')\n",
    "L1 = tf.nn.relu(L1)\n",
    "L1 = tf.nn.max_pool(L1, ksize=[1, 2, 2, 1], strides=[1, 2, 2, 1], padding='SAME')\n",
    "\n",
    "W2 = tf.Variable(tf.random_normal([3, 3, 32, 64], stddev=0.01))\n",
    "L2 = tf.nn.conv2d(L1, W2, strides=[1, 1, 1, 1], padding='SAME')\n",
    "L2 = tf.nn.relu(L2)\n",
    "L2 = tf.nn.max_pool(L2, ksize=[1, 2, 2, 1], strides=[1, 2, 2, 1], padding='SAME')\n",
    "\n",
    "\n",
    "###################### Mission 2 ############################\n",
    "# TODO:                                                     #\n",
    "# Additional 1-Convolutional Neural Network                 #                                                           \n",
    "# You could customize whole netowrk.                        #\n",
    "#############################################################\n",
    "\n",
    "W_new = tf.Variable(tf.random_normal([3,3,64,128], stddev=0.01))\n",
    "L_new = tf.nn.conv2d(L2, W_new, strides=[1,1,1,1], padding='SAME')\n",
    "L_new = tf.nn.relu(L_new)\n",
    "L_new = tf.nn.max_pool(L_new, ksize=[1,2,2,1], strides=[1,2,2,1], padding='SAME')\n",
    "\n",
    "W3 = tf.Variable(tf.random_normal([4 * 4 * 128, 256], stddev=0.01))\n",
    "L3 = tf.reshape(L_new, [-1, 4 * 4 * 128])\n",
    "L3 = tf.matmul(L3, W3)\n",
    "L3 = tf.nn.relu(L3)\n",
    "L3 = tf.nn.dropout(L3, keep_prob)\n",
    "\n",
    "\n",
    "W4 = tf.Variable(tf.random_normal([256, 10], stddev=0.01))\n",
    "model = tf.matmul(L3, W4)"
   ]
  },
  {
   "cell_type": "code",
   "execution_count": 14,
   "metadata": {
    "colab": {},
    "colab_type": "code",
    "id": "QL2aU7n40l8V"
   },
   "outputs": [],
   "source": [
    "cost = tf.reduce_mean(tf.nn.softmax_cross_entropy_with_logits_v2(logits=model, labels=Y))\n",
    "optimizer = tf.train.AdamOptimizer(0.001).minimize(cost)\n",
    "\n",
    "correct_prediction = tf.equal(tf.argmax(model, 1), tf.argmax(Y, 1))\n",
    "accuracy = tf.reduce_mean(tf.cast(correct_prediction, tf.float32))"
   ]
  },
  {
   "cell_type": "code",
   "execution_count": null,
   "metadata": {
    "colab": {
     "base_uri": "https://localhost:8080/",
     "height": 605
    },
    "colab_type": "code",
    "executionInfo": {
     "elapsed": 2520868,
     "status": "ok",
     "timestamp": 1550739171697,
     "user": {
      "displayName": "김서현",
      "photoUrl": "",
      "userId": "15191576367097349422"
     },
     "user_tz": -540
    },
    "id": "ieAQ6EbU0l8Y",
    "outputId": "8d8aeb68-6efe-4129-bec5-3348a2fc137b"
   },
   "outputs": [
    {
     "name": "stdout",
     "output_type": "stream",
     "text": [
      "550\n",
      "val acc : 0.147\n",
      "val acc : 0.125\n",
      "val acc : 0.135\n",
      "val acc : 0.138\n",
      "val acc : 0.108\n",
      "val acc : 0.103\n",
      "val acc : 0.101\n",
      "val acc : 0.100\n",
      "val acc : 0.103\n",
      "val acc : 0.111\n",
      "val acc : 0.109\n",
      "val acc : 0.131\n",
      "val acc : 0.138\n",
      "val acc : 0.175\n",
      "val acc : 0.191\n",
      "val acc : 0.179\n",
      "val acc : 0.253\n",
      "val acc : 0.323\n",
      "val acc : 0.318\n",
      "val acc : 0.285\n",
      "val acc : 0.372\n",
      "val acc : 0.472\n",
      "val acc : 0.478\n",
      "val acc : 0.487\n",
      "val acc : 0.522\n",
      "val acc : 0.550\n",
      "val acc : 0.535\n",
      "val acc : 0.545\n",
      "val acc : 0.554\n",
      "val acc : 0.573\n",
      "val acc : 0.601\n",
      "val acc : 0.588\n",
      "val acc : 0.626\n",
      "val acc : 0.610\n",
      "val acc : 0.604\n",
      "val acc : 0.590\n"
     ]
    }
   ],
   "source": [
    "init = tf.global_variables_initializer()\n",
    "sess = tf.Session()\n",
    "sess.run(init)\n",
    "\n",
    "batch_size = 100\n",
    "total_batch = int(mnist.train.num_examples / batch_size)\n",
    "print(total_batch) # 550 \n",
    "\n",
    "for epoch in range(5):\n",
    "    total_cost = 0\n",
    "\n",
    "    for i in range(total_batch):\n",
    "        batch_xs, batch_ys = mnist.train.next_batch(batch_size)\n",
    "        batch_xs = batch_xs.reshape(-1, 28, 28, 1)\n",
    "\n",
    "        _, cost_val = sess.run([optimizer, cost],\n",
    "                               feed_dict={X: batch_xs,\n",
    "                                          Y: batch_ys,\n",
    "                                          keep_prob: 0.7})\n",
    "        total_cost += cost_val\n",
    "        \n",
    "        #val_x = np.reshape(mnist.validation.images, [5000, 28,28,1])    \n",
    "        #val_y = mnist.validation.labels\n",
    "        val_acc = sess.run(accuracy, feed_dict={X:val_x, Y:val_y, keep_prob:0.7})\n",
    "        #print(val_acc)\n",
    "        print('val acc :','%.3f'%(val_acc))\n",
    "        \n",
    "    val_x = np.reshape(mnist.validation.images, [5000, 28,28,1])    \n",
    "    val_y = mnist.validation.labels\n",
    "    val_acc = sess.run(accuracy, feed_dict={X:val_x, Y:val_y, keep_prob:0.7})\n",
    "    \n",
    "    print('Epoch:', '%04d' % (epoch + 1),\n",
    "          'Avg. cost =', '{:.3f}'.format(total_cost / total_batch))\n",
    "    print('validation accuracy:', '%.3f' % (val_acc))\n",
    "    \n",
    "\n",
    "print('Optimization Complete!')\n",
    "\n",
    "\n",
    "is_correct = tf.equal(tf.argmax(model, 1), tf.argmax(Y, 1))\n",
    "accuracy = tf.reduce_mean(tf.cast(is_correct, tf.float32))\n",
    "print('Accuracy:', sess.run(accuracy,\n",
    "                        feed_dict={X: mnist.test.images.reshape(-1, 28, 28, 1),\n",
    "                                   Y: mnist.test.labels,\n",
    "                                   keep_prob: 1}))"
   ]
  },
  {
   "cell_type": "code",
   "execution_count": null,
   "metadata": {},
   "outputs": [],
   "source": []
  }
 ],
 "metadata": {
  "colab": {
   "name": "Lotte_2.ipynb",
   "provenance": [],
   "version": "0.3.2"
  },
  "kernelspec": {
   "display_name": "Python 3",
   "language": "python",
   "name": "python3"
  },
  "language_info": {
   "codemirror_mode": {
    "name": "ipython",
    "version": 3
   },
   "file_extension": ".py",
   "mimetype": "text/x-python",
   "name": "python",
   "nbconvert_exporter": "python",
   "pygments_lexer": "ipython3",
   "version": "3.6.4"
  }
 },
 "nbformat": 4,
 "nbformat_minor": 1
}
