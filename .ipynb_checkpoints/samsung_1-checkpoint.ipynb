{
 "cells": [
  {
   "cell_type": "code",
   "execution_count": 1,
   "metadata": {
    "colab": {
     "base_uri": "https://localhost:8080/",
     "height": 85
    },
    "colab_type": "code",
    "executionInfo": {
     "elapsed": 2712,
     "status": "ok",
     "timestamp": 1554883499860,
     "user": {
      "displayName": "김서현",
      "photoUrl": "",
      "userId": "15191576367097349422"
     },
     "user_tz": -540
    },
    "id": "kVhyLnaz0lKQ",
    "outputId": "7aedd248-1381-493a-8e68-2aed9b55bd98"
   },
   "outputs": [
    {
     "name": "stdout",
     "output_type": "stream",
     "text": [
      "Tensor(\"Const:0\", shape=(), dtype=string)\n",
      "Tensor(\"Add:0\", shape=(), dtype=int32)\n",
      "b'Hello, Tensorflow!'\n",
      "23\n"
     ]
    }
   ],
   "source": [
    "# 1. Basic\n",
    "# Load tensorflow\n",
    "import tensorflow as tf\n",
    "\n",
    "hello = tf.constant('Hello, Tensorflow!')\n",
    "a = tf.constant(2)\n",
    "b = tf.constant(21)\n",
    "c = tf.add(a,b)\n",
    "\n",
    "print(hello)\n",
    "print(c)\n",
    "sess = tf.Session()\n",
    "print(sess.run(hello))\n",
    "print(sess.run(c))\n",
    "\n",
    "sess.close()"
   ]
  },
  {
   "cell_type": "code",
   "execution_count": 2,
   "metadata": {
    "colab": {
     "base_uri": "https://localhost:8080/",
     "height": 275
    },
    "colab_type": "code",
    "executionInfo": {
     "elapsed": 827,
     "status": "ok",
     "timestamp": 1554883503875,
     "user": {
      "displayName": "김서현",
      "photoUrl": "",
      "userId": "15191576367097349422"
     },
     "user_tz": -540
    },
    "id": "lHsO1Ivn0lKY",
    "outputId": "10fd93ea-fdeb-4029-f5ef-74a032910b1e"
   },
   "outputs": [
    {
     "name": "stdout",
     "output_type": "stream",
     "text": [
      "Tensor(\"Placeholder:0\", shape=(?, 3), dtype=float32)\n",
      "WARNING:tensorflow:From /usr/local/lib/python3.6/dist-packages/tensorflow/python/framework/op_def_library.py:263: colocate_with (from tensorflow.python.framework.ops) is deprecated and will be removed in a future version.\n",
      "Instructions for updating:\n",
      "Colocations handled automatically by placer.\n",
      "x_data : [[1, 2, 3], [4, 5, 6]]\n",
      "W : [[ 0.6313646  -0.591647  ]\n",
      " [-0.10958161  1.0041803 ]\n",
      " [-0.09503607  0.53756493]]\n",
      "b : [[0.6392081]\n",
      " [1.1563544]]\n",
      "tf.matmul(X,W) : [[0.12709312 3.0294085 ]\n",
      " [1.4073339  5.879703  ]]\n",
      "y : [[0.7663012 3.6686165]\n",
      " [2.5636883 7.0360575]]\n"
     ]
    }
   ],
   "source": [
    "X = tf.placeholder(tf.float32, [None, 3])\n",
    "print(X)\n",
    "\n",
    "# Define Graph\n",
    "x_data = [[1,2,3],[4,5,6]]                # Shape : [2,3]\n",
    "W = tf.Variable(tf.random_normal([3,2]))  # Shape : [3,2]\n",
    "b = tf.Variable(tf.random_normal([2,1]))  # Shape : [2,1]\n",
    "XW = tf.matmul(X,W)                       # Shape : [2,2]\n",
    "y = XW + b                                # Shape : [2,2]\n",
    "\n",
    "sess = tf.Session()\n",
    "init = tf.global_variables_initializer()\n",
    "sess.run(init)\n",
    "\n",
    "print(\"x_data : {}\".format(x_data))\n",
    "print(\"W : {}\".format(sess.run(W)))\n",
    "print(\"b : {}\".format(sess.run(b)))\n",
    "print(\"tf.matmul(X,W) : {}\".format(sess.run(XW, feed_dict={X: x_data})))\n",
    "print(\"y : {}\".format(sess.run(y, feed_dict={X: x_data})))\n",
    "\n",
    "sess.close()"
   ]
  },
  {
   "cell_type": "code",
   "execution_count": 3,
   "metadata": {
    "colab": {
     "base_uri": "https://localhost:8080/",
     "height": 581
    },
    "colab_type": "code",
    "executionInfo": {
     "elapsed": 5125,
     "status": "ok",
     "timestamp": 1554883513058,
     "user": {
      "displayName": "김서현",
      "photoUrl": "",
      "userId": "15191576367097349422"
     },
     "user_tz": -540
    },
    "id": "ERnkn-sf0lKd",
    "outputId": "ed40be53-3faa-4154-fc5f-f69be976cc88"
   },
   "outputs": [
    {
     "name": "stdout",
     "output_type": "stream",
     "text": [
      "WARNING:tensorflow:From <ipython-input-3-eff13cb8b12e>:4: read_data_sets (from tensorflow.contrib.learn.python.learn.datasets.mnist) is deprecated and will be removed in a future version.\n",
      "Instructions for updating:\n",
      "Please use alternatives such as official/mnist/dataset.py from tensorflow/models.\n",
      "WARNING:tensorflow:From /usr/local/lib/python3.6/dist-packages/tensorflow/contrib/learn/python/learn/datasets/mnist.py:260: maybe_download (from tensorflow.contrib.learn.python.learn.datasets.base) is deprecated and will be removed in a future version.\n",
      "Instructions for updating:\n",
      "Please write your own downloading logic.\n",
      "WARNING:tensorflow:From /usr/local/lib/python3.6/dist-packages/tensorflow/contrib/learn/python/learn/datasets/base.py:252: _internal_retry.<locals>.wrap.<locals>.wrapped_fn (from tensorflow.contrib.learn.python.learn.datasets.base) is deprecated and will be removed in a future version.\n",
      "Instructions for updating:\n",
      "Please use urllib or similar directly.\n",
      "Successfully downloaded train-images-idx3-ubyte.gz 9912422 bytes.\n",
      "WARNING:tensorflow:From /usr/local/lib/python3.6/dist-packages/tensorflow/contrib/learn/python/learn/datasets/mnist.py:262: extract_images (from tensorflow.contrib.learn.python.learn.datasets.mnist) is deprecated and will be removed in a future version.\n",
      "Instructions for updating:\n",
      "Please use tf.data to implement this functionality.\n",
      "Extracting ./mnist/data/train-images-idx3-ubyte.gz\n",
      "Successfully downloaded train-labels-idx1-ubyte.gz 28881 bytes.\n",
      "WARNING:tensorflow:From /usr/local/lib/python3.6/dist-packages/tensorflow/contrib/learn/python/learn/datasets/mnist.py:267: extract_labels (from tensorflow.contrib.learn.python.learn.datasets.mnist) is deprecated and will be removed in a future version.\n",
      "Instructions for updating:\n",
      "Please use tf.data to implement this functionality.\n",
      "Extracting ./mnist/data/train-labels-idx1-ubyte.gz\n",
      "WARNING:tensorflow:From /usr/local/lib/python3.6/dist-packages/tensorflow/contrib/learn/python/learn/datasets/mnist.py:110: dense_to_one_hot (from tensorflow.contrib.learn.python.learn.datasets.mnist) is deprecated and will be removed in a future version.\n",
      "Instructions for updating:\n",
      "Please use tf.one_hot on tensors.\n",
      "Successfully downloaded t10k-images-idx3-ubyte.gz 1648877 bytes.\n",
      "Extracting ./mnist/data/t10k-images-idx3-ubyte.gz\n",
      "Successfully downloaded t10k-labels-idx1-ubyte.gz 4542 bytes.\n",
      "Extracting ./mnist/data/t10k-labels-idx1-ubyte.gz\n",
      "WARNING:tensorflow:From /usr/local/lib/python3.6/dist-packages/tensorflow/contrib/learn/python/learn/datasets/mnist.py:290: DataSet.__init__ (from tensorflow.contrib.learn.python.learn.datasets.mnist) is deprecated and will be removed in a future version.\n",
      "Instructions for updating:\n",
      "Please use alternatives such as official/mnist/dataset.py from tensorflow/models.\n",
      "(55000, 784)\n",
      "(5000, 784)\n",
      "(10000, 784)\n"
     ]
    }
   ],
   "source": [
    "# MNIST(손글씨 숫자 인식)\n",
    "\n",
    "from tensorflow.examples.tutorials.mnist import input_data\n",
    "\n",
    "mnist = input_data.read_data_sets(\"./mnist/data/\", one_hot=True)\n",
    "print (mnist.train.images.shape)\n",
    "print (mnist.validation.images.shape)\n",
    "print (mnist.test.images.shape)\n"
   ]
  },
  {
   "cell_type": "code",
   "execution_count": 0,
   "metadata": {
    "colab": {},
    "colab_type": "code",
    "id": "FtDtOzsO0lKh"
   },
   "outputs": [],
   "source": [
    "try:\n",
    "    tf.reset_default_graph()\n",
    "    sess.close()\n",
    "    \n",
    "except:\n",
    "    pass\n"
   ]
  },
  {
   "cell_type": "code",
   "execution_count": 5,
   "metadata": {
    "colab": {
     "base_uri": "https://localhost:8080/",
     "height": 289
    },
    "colab_type": "code",
    "executionInfo": {
     "elapsed": 11755,
     "status": "ok",
     "timestamp": 1554883534996,
     "user": {
      "displayName": "김서현",
      "photoUrl": "",
      "userId": "15191576367097349422"
     },
     "user_tz": -540
    },
    "id": "5LYO1apU0lKl",
    "outputId": "78a6dc6b-05f2-4a14-8428-44b45e03a2d5"
   },
   "outputs": [
    {
     "name": "stdout",
     "output_type": "stream",
     "text": [
      "Epoch: 0001 Avg. cost = 0.643\n",
      "Epoch: 0002 Avg. cost = 0.357\n",
      "Epoch: 0003 Avg. cost = 0.318\n",
      "Epoch: 0004 Avg. cost = 0.300\n",
      "Epoch: 0005 Avg. cost = 0.290\n",
      "Epoch: 0006 Avg. cost = 0.282\n",
      "Epoch: 0007 Avg. cost = 0.277\n",
      "Epoch: 0008 Avg. cost = 0.273\n",
      "Epoch: 0009 Avg. cost = 0.270\n",
      "Epoch: 0010 Avg. cost = 0.267\n",
      "Epoch: 0011 Avg. cost = 0.265\n",
      "Epoch: 0012 Avg. cost = 0.263\n",
      "Epoch: 0013 Avg. cost = 0.261\n",
      "Epoch: 0014 Avg. cost = 0.259\n",
      "Epoch: 0015 Avg. cost = 0.258\n",
      "Accuracy: 0.9254\n"
     ]
    }
   ],
   "source": [
    "# 2. Single-Layer Perceptron\n",
    "#########\n",
    "# Define Graph\n",
    "#########\n",
    "X = tf.placeholder(tf.float32, [None, 784])\n",
    "Y = tf.placeholder(tf.float32, [None, 10])\n",
    "\n",
    "W = tf.Variable(tf.random_normal([784, 10], stddev=0.01))\n",
    "model = tf.matmul(X, W)\n",
    "\n",
    "cost = tf.reduce_mean(tf.nn.softmax_cross_entropy_with_logits_v2(logits=model, labels=Y))\n",
    "optimizer = tf.train.AdamOptimizer(0.001).minimize(cost)\n",
    "\n",
    "#########\n",
    "# Training\n",
    "#########\n",
    "init = tf.global_variables_initializer()\n",
    "sess = tf.Session()\n",
    "sess.run(init)\n",
    "\n",
    "batch_size = 100\n",
    "total_batch = int(mnist.train.num_examples / batch_size)\n",
    "\n",
    "for epoch in range(15):\n",
    "    total_cost = 0\n",
    "\n",
    "    for i in range(total_batch):\n",
    "        batch_xs, batch_ys = mnist.train.next_batch(batch_size)\n",
    "\n",
    "        _, cost_val = sess.run([optimizer, cost], feed_dict={X: batch_xs, Y: batch_ys})\n",
    "        total_cost += cost_val\n",
    "\n",
    "    print('Epoch:', '%04d' % (epoch + 1),\n",
    "          'Avg. cost =', '{:.3f}'.format(total_cost / total_batch))\n",
    "\n",
    "is_correct = tf.equal(tf.argmax(model, 1), tf.argmax(Y, 1))\n",
    "accuracy = tf.reduce_mean(tf.cast(is_correct, tf.float32))\n",
    "print('Accuracy:', sess.run(accuracy,\n",
    "                        feed_dict={X: mnist.test.images,\n",
    "                                   Y: mnist.test.labels}))"
   ]
  },
  {
   "cell_type": "code",
   "execution_count": 0,
   "metadata": {
    "colab": {},
    "colab_type": "code",
    "id": "0907948X0q-5"
   },
   "outputs": [],
   "source": []
  },
  {
   "cell_type": "code",
   "execution_count": 6,
   "metadata": {
    "colab": {
     "base_uri": "https://localhost:8080/",
     "height": 227
    },
    "colab_type": "code",
    "executionInfo": {
     "elapsed": 1350,
     "status": "ok",
     "timestamp": 1554883649794,
     "user": {
      "displayName": "김서현",
      "photoUrl": "",
      "userId": "15191576367097349422"
     },
     "user_tz": -540
    },
    "id": "xX832he00lKp",
    "outputId": "28e76957-3a55-4c53-a5f5-f4ecfa69660e"
   },
   "outputs": [
    {
     "data": {
      "image/png": "[encoded data removed]",
      "text/plain": [
       "<Figure size 432x288 with 10 Axes>"
      ]
     },
     "metadata": {
      "tags": []
     },
     "output_type": "display_data"
    }
   ],
   "source": [
    "import matplotlib.pyplot as plt\n",
    "import numpy as np\n",
    "\n",
    "labels = sess.run(model,\n",
    "                  feed_dict={X: mnist.test.images,\n",
    "                             Y: mnist.test.labels})\n",
    "1\n",
    "shuff_idx = np.random.randint(mnist.test.images.shape[0], size=10)\n",
    "fig = plt.figure()\n",
    "for i in range(10):\n",
    "    idx = shuff_idx[i]\n",
    "    subplot = fig.add_subplot(2, 5, i + 1)\n",
    "    subplot.set_xticks([])\n",
    "    subplot.set_yticks([])\n",
    "    subplot.set_title('%d' % np.argmax(labels[idx])) # prediction\n",
    "    subplot.imshow(mnist.test.images[idx].reshape((28, 28)),\n",
    "                   cmap=plt.cm.gray_r)\n",
    "\n",
    "plt.show()"
   ]
  },
  {
   "cell_type": "code",
   "execution_count": 7,
   "metadata": {
    "colab": {
     "base_uri": "https://localhost:8080/",
     "height": 289
    },
    "colab_type": "code",
    "executionInfo": {
     "elapsed": 20613,
     "status": "ok",
     "timestamp": 1554883675593,
     "user": {
      "displayName": "김서현",
      "photoUrl": "",
      "userId": "15191576367097349422"
     },
     "user_tz": -540
    },
    "id": "BOOGd_Sl0lKt",
    "outputId": "34379929-3f22-4a53-a20d-9bbbb974b8a7"
   },
   "outputs": [
    {
     "name": "stdout",
     "output_type": "stream",
     "text": [
      "Epoch: 0001 Avg. cost = 0.464\n",
      "Epoch: 0002 Avg. cost = 0.216\n",
      "Epoch: 0003 Avg. cost = 0.155\n",
      "Epoch: 0004 Avg. cost = 0.120\n",
      "Epoch: 0005 Avg. cost = 0.096\n",
      "Epoch: 0006 Avg. cost = 0.079\n",
      "Epoch: 0007 Avg. cost = 0.065\n",
      "Epoch: 0008 Avg. cost = 0.055\n",
      "Epoch: 0009 Avg. cost = 0.047\n",
      "Epoch: 0010 Avg. cost = 0.040\n",
      "Epoch: 0011 Avg. cost = 0.034\n",
      "Epoch: 0012 Avg. cost = 0.028\n",
      "Epoch: 0013 Avg. cost = 0.024\n",
      "Epoch: 0014 Avg. cost = 0.021\n",
      "Epoch: 0015 Avg. cost = 0.018\n",
      "Accuracy: 0.975\n"
     ]
    }
   ],
   "source": [
    "# 3-1. Multi-Layer Perceptron (2 Layers)\n",
    "X = tf.placeholder(tf.float32, [None, 784])\n",
    "Y = tf.placeholder(tf.float32, [None, 10])\n",
    "\n",
    "W1 = tf.Variable(tf.random_normal([784, 128], stddev=0.01))\n",
    "L1 = tf.nn.relu(tf.matmul(X, W1))\n",
    "\n",
    "W2 = tf.Variable(tf.random_normal([128, 10], stddev=0.01))\n",
    "model = tf.matmul(L1, W2)\n",
    "\n",
    "cost = tf.reduce_mean(tf.nn.softmax_cross_entropy_with_logits_v2(logits=model, labels=Y))\n",
    "optimizer = tf.train.AdamOptimizer(0.001).minimize(cost)\n",
    "\n",
    "init = tf.global_variables_initializer()\n",
    "sess = tf.Session()\n",
    "sess.run(init)\n",
    "\n",
    "batch_size = 100\n",
    "total_batch = int(mnist.train.num_examples / batch_size)\n",
    "\n",
    "for epoch in range(15):\n",
    "    total_cost = 0\n",
    "\n",
    "    for i in range(total_batch):\n",
    "        batch_xs, batch_ys = mnist.train.next_batch(batch_size)\n",
    "\n",
    "        _, cost_val = sess.run([optimizer, cost], feed_dict={X: batch_xs, Y: batch_ys})\n",
    "        total_cost += cost_val\n",
    "\n",
    "    print('Epoch:', '%04d' % (epoch + 1),\n",
    "          'Avg. cost =', '{:.3f}'.format(total_cost / total_batch))\n",
    "\n",
    "is_correct = tf.equal(tf.argmax(model, 1), tf.argmax(Y, 1))\n",
    "accuracy = tf.reduce_mean(tf.cast(is_correct, tf.float32))\n",
    "print('Accuracy:', sess.run(accuracy,\n",
    "                        feed_dict={X: mnist.test.images,\n",
    "                                   Y: mnist.test.labels}))"
   ]
  },
  {
   "cell_type": "code",
   "execution_count": 8,
   "metadata": {
    "colab": {
     "base_uri": "https://localhost:8080/",
     "height": 289
    },
    "colab_type": "code",
    "executionInfo": {
     "elapsed": 120476,
     "status": "ok",
     "timestamp": 1554883932162,
     "user": {
      "displayName": "김서현",
      "photoUrl": "",
      "userId": "15191576367097349422"
     },
     "user_tz": -540
    },
    "id": "ObKFap8j0lLC",
    "outputId": "535e8941-4d2b-436f-b227-34ae14155d24"
   },
   "outputs": [
    {
     "name": "stdout",
     "output_type": "stream",
     "text": [
      "Epoch: 0001 Avg. cost = 1.874\n",
      "Epoch: 0002 Avg. cost = 0.664\n",
      "Epoch: 0003 Avg. cost = 0.410\n",
      "Epoch: 0004 Avg. cost = 0.317\n",
      "Epoch: 0005 Avg. cost = 0.258\n",
      "Epoch: 0006 Avg. cost = 0.214\n",
      "Epoch: 0007 Avg. cost = 0.183\n",
      "Epoch: 0008 Avg. cost = 0.161\n",
      "Epoch: 0009 Avg. cost = 0.138\n",
      "Epoch: 0010 Avg. cost = 0.126\n",
      "Epoch: 0011 Avg. cost = 0.111\n",
      "Epoch: 0012 Avg. cost = 0.100\n",
      "Epoch: 0013 Avg. cost = 0.092\n",
      "Epoch: 0014 Avg. cost = 0.084\n",
      "Epoch: 0015 Avg. cost = 0.075\n",
      "Accuracy: 0.9641\n"
     ]
    }
   ],
   "source": [
    "# 3-2. Multi-Layer Perceptron (3 Layers)\n",
    "X = tf.placeholder(tf.float32, [None, 784])\n",
    "Y = tf.placeholder(tf.float32, [None, 10])\n",
    "\n",
    "W1 = tf.Variable(tf.random_normal([784, 128], stddev=0.01))\n",
    "L1 = tf.nn.sigmoid(tf.matmul(X, W1))\n",
    "\n",
    "###################### Mission 1 ############################\n",
    "# TODO:                                                     #\n",
    "# Design a 3-layer perceptron network.                      #\n",
    "# You could use different non-linear activation function.   #\n",
    "#############################################################\n",
    "\n",
    "model = tf.matmul(L_new, W3)\n",
    "\n",
    "cost = tf.reduce_mean(tf.nn.softmax_cross_entropy_with_logits_v2(logits=model, labels=Y))\n",
    "optimizer = tf.train.AdamOptimizer(0.001).minimize(cost)\n",
    "\n",
    "init = tf.global_variables_initializer()\n",
    "sess = tf.Session()\n",
    "sess.run(init)\n",
    "\n",
    "batch_size = 100\n",
    "total_batch = int(mnist.train.num_examples / batch_size)\n",
    "\n",
    "for epoch in range(15):\n",
    "    total_cost = 0\n",
    "\n",
    "    for i in range(total_batch):\n",
    "        batch_xs, batch_ys = mnist.train.next_batch(batch_size)\n",
    "\n",
    "        _, cost_val = sess.run([optimizer, cost], feed_dict={X: batch_xs, Y: batch_ys})\n",
    "        total_cost += cost_val\n",
    "\n",
    "    print('Epoch:', '%04d' % (epoch + 1),\n",
    "          'Avg. cost =', '{:.3f}'.format(total_cost / total_batch))\n",
    "\n",
    "is_correct = tf.equal(tf.argmax(model, 1), tf.argmax(Y, 1))\n",
    "accuracy = tf.reduce_mean(tf.cast(is_correct, tf.float32))\n",
    "print('Accuracy:', sess.run(accuracy,\n",
    "                        feed_dict={X: mnist.test.images,\n",
    "                                   Y: mnist.test.labels}))"
   ]
  },
  {
   "cell_type": "code",
   "execution_count": 0,
   "metadata": {
    "colab": {},
    "colab_type": "code",
    "id": "LuyPInoq0lLH"
   },
   "outputs": [],
   "source": []
  }
 ],
 "metadata": {
  "colab": {
   "name": "Lotte_1.ipynb",
   "provenance": [],
   "version": "0.3.2"
  },
  "kernelspec": {
   "display_name": "Python 3",
   "language": "python",
   "name": "python3"
  },
  "language_info": {
   "codemirror_mode": {
    "name": "ipython",
    "version": 3
   },
   "file_extension": ".py",
   "mimetype": "text/x-python",
   "name": "python",
   "nbconvert_exporter": "python",
   "pygments_lexer": "ipython3",
   "version": "3.6.4"
  }
 },
 "nbformat": 4,
 "nbformat_minor": 1
}
